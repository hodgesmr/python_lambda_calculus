{
 "cells": [
  {
   "cell_type": "markdown",
   "id": "01542f8d",
   "metadata": {},
   "source": [
    "# Exploring the Lambda Calculus with Python\n",
    "\n",
    "_2022-07-17_\n",
    "\n",
    "**By Matt Hodges**\n",
    "\n",
    "This Notebook explores some basic ideas of the Lambda Calculus, and how to use it to implement a computation system with it. We will define numbers and operators from scratch, and use that to implement the `square_sum` function.\n",
    "\n",
    "If you're new to the Lambda Calculus, or functional programming in general, you may wish to start with some of these resources:\n",
    "\n",
    "* [David Beazley's Lambda Calculus from the Ground Up - PyCon 2019](https://www.youtube.com/watch?v=pkCLMl0e_0k)\n",
    "  * If you're someone who learns well by watching and listening, I highly recommend that you watch this talk. A significant portion of the concepts below come from watching this talk more than once.\n",
    "* [Ben Eater's Making a computer Turing complete](https://www.youtube.com/watch?v=AqNDk_UJW4k)\n",
    "* [Lambda Calculus | Wikipedia](https://en.wikipedia.org/wiki/Lambda_calculus)\n",
    "* [Curring | Wikipedia](https://en.wikipedia.org/wiki/Currying)\n",
    "\n",
    "This Notebook assumes you are fairly familiar with Python and Python's [lambda expressions](https://docs.python.org/3/tutorial/controlflow.html#lambda-expressions)."
   ]
  },
  {
   "cell_type": "markdown",
   "id": "74b973e0",
   "metadata": {},
   "source": [
    "## Rules of Our System\n",
    "\n",
    "The Lambda Calculus asserts that any computational system can be implemented with a set of three simple rules:\n",
    "* You can define variables\n",
    "* You can define single-argument functions\n",
    "* You can call single-argument functions\n",
    "\n",
    "That's it. **No numbers. No operators. No control flow. No data structures.**\n",
    "\n",
    "I find it fascinating that with these very minimal concepts, the Lambda Calculus asserts that we can create a fully functional computer! This is, of course, a very minimal explanation of the rules of the Lambda Calculus, and I invite you to consult the references above for more information and formal definitions!"
   ]
  },
  {
   "cell_type": "markdown",
   "id": "f6ed00fe",
   "metadata": {},
   "source": [
    "## The Challenge\n",
    "\n",
    "Using the rules described above, we want to create a system that can calculate the square-sum of any inputs. Again, we _only_ have single-argument functions. That means we have no integers, no addition, and no multiplication. We're going to have to create those using nothing but single-argument functions that accept single-argument functions as input and can only return single-argument functions.\n",
    "\n",
    "For reference, consider the `square_sum` function, that may be written in Python as:"
   ]
  },
  {
   "cell_type": "code",
   "execution_count": 1,
   "id": "34049a45",
   "metadata": {},
   "outputs": [
    {
     "data": {
      "text/plain": [
       "29"
      ]
     },
     "execution_count": 1,
     "metadata": {},
     "output_type": "execute_result"
    }
   ],
   "source": [
    "def square_sum(a, b):\n",
    "    return (a*a) + (b*b)\n",
    "\n",
    "\n",
    "square_sum(5, 2)"
   ]
  },
  {
   "cell_type": "markdown",
   "id": "b9ce6037",
   "metadata": {},
   "source": [
    "### Currying\n",
    "\n",
    "As previously mentioned, our computation system requires that we can only create functions and those functions must accept one and only one argument. This may seem like a limiting requirement, but let's take a look at what we can do with the idea of [Currying](https://en.wikipedia.org/wiki/Currying) — a method for transforming multi-argument functions into a chain of single-argument functions. This allows us to re-write our Python implementation as:"
   ]
  },
  {
   "cell_type": "code",
   "execution_count": 2,
   "id": "37bba6c1",
   "metadata": {},
   "outputs": [
    {
     "data": {
      "text/plain": [
       "29"
      ]
     },
     "execution_count": 2,
     "metadata": {},
     "output_type": "execute_result"
    }
   ],
   "source": [
    "def square_sum(a):\n",
    "    def inner(b):\n",
    "        return (a*a) + (b*b)\n",
    "    return inner\n",
    "\n",
    "\n",
    "square_sum(5)(2)"
   ]
  },
  {
   "cell_type": "markdown",
   "id": "881f3b70",
   "metadata": {},
   "source": [
    "In our curried version above, `square_sum` accepts the first argument, `a` and returns a function that accepts the second argument, `b`. We can then call that returned `inner` function to complete our calculation. Currying is a fundamental strategy for computation in the Lambda Calculus."
   ]
  },
  {
   "cell_type": "markdown",
   "id": "cabcde43",
   "metadata": {},
   "source": [
    "## Our Basic Building Block\n",
    "\n",
    "Unless you're already familiary with the Lambda Calculus, or you're a veteran of functional programming, you're probaby very accustomed to computing by operating on _state_. You have data structures, or numbers, or bits, and you operate on them and then you persist new data structures, or numbers, or bits.\n",
    "\n",
    "Our concept of integers is a perfect example. As children, we learned that the concept of `3` can be represented by holding up three fingers on our hand, and seeing all three of them, and pointing to them. The Lambda Calculus asks us to adjust that concept away from _state_ and towards _behavior_. Instead of holding up three fingers, what if we held up _one finger three times_. It may be harder for us see that idea of `3`, but it is a representation of `3` nonetheless.\n",
    "\n",
    "Sit with this idea of behavior representing integers, because behavior will be how we represent _everything_. And in our system, functions are behavior. Our function could be the act of holding up a finger, pressing a button, or anything else we need it to be.\n",
    "\n",
    "Let's use that metaphor of pressing a button. The button press is our behavior, and behaviors are functions. And arguments are functions. And we can only return functions. So, let's write that:"
   ]
  },
  {
   "cell_type": "code",
   "execution_count": 3,
   "id": "8e41ad57",
   "metadata": {},
   "outputs": [],
   "source": [
    "def button_press(f):\n",
    "    def g(x):\n",
    "        return f(x)\n",
    "    return g"
   ]
  },
  {
   "cell_type": "markdown",
   "id": "f456ad16",
   "metadata": {},
   "source": [
    "Not much to see here yet. In fact, our system isn't designed to _see_ anything. It's designed to do computations within a given set of rules.\n",
    "\n",
    "We're designing a system of computation, and we can think about this system like instruction that run on a CPU. But we're humans, and it's helpful for us to be able to see the results of our computation in ways that we can understand. So, we're going to introduce an external system that is _not_ within the Lambda Calculus, but can interface with it. Think of this as a peripheral like a printer. It's not used to _do_ any of our computation. It can do special things that our CPU can't do, and it'll connect to our system as a function, because our system can only work with functions.\n",
    "\n",
    "Let's pretend our system has a printer attached that can only print the `*` character. We'll interface with it via an `emit` function. \n",
    "\n",
    "Here is our not-of-our-system `emit` function:"
   ]
  },
  {
   "cell_type": "code",
   "execution_count": 4,
   "id": "1e7bbf0c",
   "metadata": {},
   "outputs": [],
   "source": [
    "def emit(func):\n",
    "    def asterisk(x):\n",
    "        return f'{x}*'\n",
    "    return func(asterisk)('')"
   ]
  },
  {
   "cell_type": "markdown",
   "id": "9927e4a4",
   "metadata": {},
   "source": [
    "This is kindof strange. Our external `emit` function takes in some function and has an inner asterisk-generating function. Let's hook it up to our `button_press` function:"
   ]
  },
  {
   "cell_type": "code",
   "execution_count": 5,
   "id": "80694f8f",
   "metadata": {},
   "outputs": [
    {
     "data": {
      "text/plain": [
       "'*'"
      ]
     },
     "execution_count": 5,
     "metadata": {},
     "output_type": "execute_result"
    }
   ],
   "source": [
    "emit(button_press)"
   ]
  },
  {
   "cell_type": "markdown",
   "id": "bbec6b5e",
   "metadata": {},
   "source": [
    "What just happened here? We call our `emit` function (external from our system) by passing in our `button_press` function (internal to our system). We did it one time, and it yielded a single `*`. Again, this is just a convenience interface so that we can see what's going on, and isn't necessary to do any of our actual computation."
   ]
  },
  {
   "cell_type": "markdown",
   "id": "6289ab85",
   "metadata": {},
   "source": [
    "## Numbers\n",
    "\n",
    "Above we began to describe how functions, or behaviors, can represent numbers. A single call to `button_press` yielded some concept of `1`. What if we didn't think about it as one call to `button_press` anymore, but as the idea of _one behavior_:"
   ]
  },
  {
   "cell_type": "code",
   "execution_count": 6,
   "id": "f4b96dcb",
   "metadata": {},
   "outputs": [
    {
     "data": {
      "text/plain": [
       "'*'"
      ]
     },
     "execution_count": 6,
     "metadata": {},
     "output_type": "execute_result"
    }
   ],
   "source": [
    "def ONE(f):\n",
    "    def g(x):\n",
    "        return f(x)\n",
    "    return g\n",
    "\n",
    "\n",
    "emit(ONE)"
   ]
  },
  {
   "cell_type": "markdown",
   "id": "f2d1bfc3",
   "metadata": {},
   "source": [
    "If you've made it this far, you're probably thinking, \"Hey, Python has a way to represent single-argument functions, and they're called _lambdas_!\" Let's start using that instead of the expanded `button_press` function:"
   ]
  },
  {
   "cell_type": "code",
   "execution_count": 7,
   "id": "f829cb33",
   "metadata": {},
   "outputs": [
    {
     "data": {
      "text/plain": [
       "'*'"
      ]
     },
     "execution_count": 7,
     "metadata": {},
     "output_type": "execute_result"
    }
   ],
   "source": [
    "ONE = lambda f : lambda x : f(x)\n",
    "\n",
    "emit(ONE)"
   ]
  },
  {
   "cell_type": "markdown",
   "id": "ef20df8d",
   "metadata": {},
   "source": [
    "Cool. So we know how to represent the concept of `1` using only single-argument functions. We can represent `2` by calling our function twice, because in our system numbers are behaviors:"
   ]
  },
  {
   "cell_type": "code",
   "execution_count": 8,
   "id": "449512ef",
   "metadata": {},
   "outputs": [
    {
     "data": {
      "text/plain": [
       "'**'"
      ]
     },
     "execution_count": 8,
     "metadata": {},
     "output_type": "execute_result"
    }
   ],
   "source": [
    "TWO = lambda f : lambda x: f(f(x))\n",
    "\n",
    "emit(TWO)"
   ]
  },
  {
   "cell_type": "markdown",
   "id": "810538f8",
   "metadata": {},
   "source": [
    "This is all well and good, but we're not really going to try to implement every single number are we? That wouldn't make a very good computer. How can we represent all countable numbers?\n",
    "\n",
    "If you look closely at our definitions above, `ONE` is a single call to `f()`, while `TWO` is `f(f())`. This means that if we're at any given number, we can get to the next number by calling `f()` again. We can define an `INCREMENT()` function to do just that. I find it helpful to start by looking at this through the expanded Python functions first:"
   ]
  },
  {
   "cell_type": "code",
   "execution_count": 9,
   "id": "666a4eef",
   "metadata": {},
   "outputs": [
    {
     "data": {
      "text/plain": [
       "'**'"
      ]
     },
     "execution_count": 9,
     "metadata": {},
     "output_type": "execute_result"
    }
   ],
   "source": [
    "def ONE(f):  # f is the behavior we want to do\n",
    "    def g(x):  # x is the curried second argument\n",
    "        return f(x)\n",
    "    return g\n",
    "\n",
    "\n",
    "def INCREMENT(n):  # n is the concept of the number we already have\n",
    "    def g(f):  # f is the behavior we want to do\n",
    "        def h(x):  # x is the curried second argument\n",
    "            return f(n(f)(x))  # we call f() again on our n(f)(x)\n",
    "        return h\n",
    "    return g\n",
    "\n",
    "\n",
    "emit(INCREMENT(ONE))"
   ]
  },
  {
   "cell_type": "markdown",
   "id": "1eb204fa",
   "metadata": {},
   "source": [
    "Spend some time stepping through the above code to understand it. We're essentially wrapping nested functions as many times as we need to get to the next number. Once you've wrapped your head around it, see that we can re-write the above as lambdas:"
   ]
  },
  {
   "cell_type": "code",
   "execution_count": 10,
   "id": "306b103b",
   "metadata": {},
   "outputs": [
    {
     "data": {
      "text/plain": [
       "'**'"
      ]
     },
     "execution_count": 10,
     "metadata": {},
     "output_type": "execute_result"
    }
   ],
   "source": [
    "ONE = lambda f : lambda x : f(x)\n",
    "\n",
    "INCREMENT = lambda n : lambda f : lambda x : f(n(f)(x))\n",
    "\n",
    "TWO = INCREMENT(ONE)  # our calculated TWO from ONE\n",
    "\n",
    "emit(TWO)"
   ]
  },
  {
   "cell_type": "markdown",
   "id": "f517de0f",
   "metadata": {},
   "source": [
    "If we can calculate `TWO` from `ONE`, we can calculate `THREE`:"
   ]
  },
  {
   "cell_type": "code",
   "execution_count": 11,
   "id": "45107760",
   "metadata": {},
   "outputs": [
    {
     "data": {
      "text/plain": [
       "'***'"
      ]
     },
     "execution_count": 11,
     "metadata": {},
     "output_type": "execute_result"
    }
   ],
   "source": [
    "THREE = INCREMENT(TWO)\n",
    "\n",
    "emit(THREE)"
   ]
  },
  {
   "cell_type": "markdown",
   "id": "d919a928",
   "metadata": {},
   "source": [
    "Pretty neat! We can keep doing this to infinity, either by saving values, or calculating them on the fly! But you may be wondering, what about `ZERO`? Well, we've defined `ONE` as a single call to any behavior `f()`, so `ZERO` would simply be no calls to that behavior:"
   ]
  },
  {
   "cell_type": "code",
   "execution_count": 12,
   "id": "394a59ec",
   "metadata": {},
   "outputs": [
    {
     "data": {
      "text/plain": [
       "''"
      ]
     },
     "execution_count": 12,
     "metadata": {},
     "output_type": "execute_result"
    }
   ],
   "source": [
    "ZERO = lambda f : lambda x : x\n",
    "\n",
    "emit(ZERO)"
   ]
  },
  {
   "cell_type": "markdown",
   "id": "a4510859",
   "metadata": {},
   "source": [
    "See how `ZERO` doesn't call `f()` at all? What's fun here is that we no longer need to have defined `ONE`, we can calculate it from `ZERO`!"
   ]
  },
  {
   "cell_type": "code",
   "execution_count": 13,
   "id": "07d3bd76",
   "metadata": {},
   "outputs": [
    {
     "data": {
      "text/plain": [
       "'*'"
      ]
     },
     "execution_count": 13,
     "metadata": {},
     "output_type": "execute_result"
    }
   ],
   "source": [
    "ONE = INCREMENT(ZERO)\n",
    "\n",
    "emit(ONE)"
   ]
  },
  {
   "cell_type": "markdown",
   "id": "7afa876e",
   "metadata": {},
   "source": [
    "## Operators\n",
    "\n",
    "Now that we know we can represent numbers as function calls, let's start working on math operators. We've already introduced one critical operator, `INCREMENT`, and we can use that to introduce others. Let's start with `ADD`. Addition is can be thought of as incrementing `M` times on a number `N`. For example, `2 + 3` could be described as incrementing 2, three times. Before we attempt to implement that in our system, let's look again to how we would Curry this in Python:"
   ]
  },
  {
   "cell_type": "code",
   "execution_count": 14,
   "id": "a6a9072b",
   "metadata": {},
   "outputs": [
    {
     "data": {
      "text/plain": [
       "5"
      ]
     },
     "execution_count": 14,
     "metadata": {},
     "output_type": "execute_result"
    }
   ],
   "source": [
    "def add(a):\n",
    "    def inner(b):\n",
    "        return a + b\n",
    "    return inner\n",
    "\n",
    "add(2)(3)"
   ]
  },
  {
   "cell_type": "code",
   "execution_count": 15,
   "id": "a0d87735",
   "metadata": {},
   "outputs": [
    {
     "data": {
      "text/plain": [
       "'*****'"
      ]
     },
     "execution_count": 15,
     "metadata": {},
     "output_type": "execute_result"
    }
   ],
   "source": [
    "def ADD(a):  # Our first number, which is always a function\n",
    "    def inner(b):  # Our second number, which is always a function\n",
    "        return b(INCREMENT)(a)  # Increment a, b times\n",
    "    return inner\n",
    "\n",
    "\n",
    "FIVE = ADD(TWO)(THREE)\n",
    "emit(FIVE)"
   ]
  },
  {
   "cell_type": "markdown",
   "id": "44d54334",
   "metadata": {},
   "source": [
    "Since _everything_ is _always_ a function, our numbers can be used not only as representations of calculations, but also as executors. Here's our `ADD` as a lambda:"
   ]
  },
  {
   "cell_type": "code",
   "execution_count": 16,
   "id": "0e16c1c3",
   "metadata": {},
   "outputs": [
    {
     "data": {
      "text/plain": [
       "'*****'"
      ]
     },
     "execution_count": 16,
     "metadata": {},
     "output_type": "execute_result"
    }
   ],
   "source": [
    "ADD = lambda a : lambda b: b(INCREMENT)(a)\n",
    "\n",
    "FIVE = ADD(TWO)(THREE)\n",
    "emit(FIVE)"
   ]
  },
  {
   "cell_type": "markdown",
   "id": "d5022856",
   "metadata": {},
   "source": [
    "The last missing operator of our computational system multiplication. Multiplication should feel a lot like nested functions you see often in programming. "
   ]
  },
  {
   "cell_type": "code",
   "execution_count": 17,
   "id": "10ea3f1e",
   "metadata": {},
   "outputs": [
    {
     "data": {
      "text/plain": [
       "'******'"
      ]
     },
     "execution_count": 17,
     "metadata": {},
     "output_type": "execute_result"
    }
   ],
   "source": [
    "def MULT(a):  # Our first number, which is always a function\n",
    "    def outer(b):  # Our second number, which is always a function\n",
    "        def inner(f):  # The function we want to do a*b times\n",
    "            return b(a(f))  # do f, a times, and do that b times\n",
    "        return inner\n",
    "    return outer\n",
    "\n",
    "SIX = MULT(TWO)(THREE)\n",
    "emit(SIX)"
   ]
  },
  {
   "cell_type": "markdown",
   "id": "4ae7ef65",
   "metadata": {},
   "source": [
    "Again, we can represent `MULT` as a lambda:"
   ]
  },
  {
   "cell_type": "code",
   "execution_count": 18,
   "id": "92cfd49f",
   "metadata": {},
   "outputs": [
    {
     "data": {
      "text/plain": [
       "'******'"
      ]
     },
     "execution_count": 18,
     "metadata": {},
     "output_type": "execute_result"
    }
   ],
   "source": [
    "MULT = lambda a : lambda b : lambda f : b(a(f))\n",
    "\n",
    "SIX = MULT(TWO)(THREE)\n",
    "emit(SIX)"
   ]
  },
  {
   "cell_type": "markdown",
   "id": "1adce4b1",
   "metadata": {},
   "source": [
    "## Using Our Computer\n",
    "\n",
    "We've now defined everything necessary to implement our `square_sum` function in the Lambda Calculus. Let's build it here from these basic principles. We want to calculate `square_sum(5, 2)`."
   ]
  },
  {
   "cell_type": "code",
   "execution_count": 19,
   "id": "cb5ae57e",
   "metadata": {},
   "outputs": [],
   "source": [
    "ZERO = lambda f : lambda x : x\n",
    "INCREMENT = lambda n : lambda f : lambda x : f(n(f)(x))\n",
    "ADD = lambda a : lambda b: b(INCREMENT)(a)\n",
    "MULT = lambda a : lambda b : lambda f : b(a(f))\n",
    "\n",
    "\n",
    "def square_sum(a):\n",
    "    def inner(b):\n",
    "        return ADD(MULT(a)(a))(MULT(b)(b))\n",
    "    return inner\n",
    "\n",
    "TWO = ADD(INCREMENT(ZERO))(INCREMENT(ZERO))\n",
    "FIVE = INCREMENT(ADD(TWO)(TWO))\n",
    "\n",
    "RESULT = square_sum(FIVE)(TWO)"
   ]
  },
  {
   "cell_type": "markdown",
   "id": "19ed1e49",
   "metadata": {},
   "source": [
    "And that's it! Using nothing but single-argument lambda functions, we've successfully defined non-negative integers, the addition and multiplication operators, and the square-sum function. It's a little hard to visualize, but the actual answer _is_ calcuated in our `RESULT` variable. We can output it to our metaphorical printer:"
   ]
  },
  {
   "cell_type": "code",
   "execution_count": 20,
   "id": "61b6b829",
   "metadata": {},
   "outputs": [
    {
     "data": {
      "text/plain": [
       "'*****************************'"
      ]
     },
     "execution_count": 20,
     "metadata": {},
     "output_type": "execute_result"
    }
   ],
   "source": [
    "emit(RESULT)"
   ]
  },
  {
   "cell_type": "markdown",
   "id": "2e5f8ae5",
   "metadata": {},
   "source": [
    "Our printer has output 29 asterisks! Pretty cool!\n",
    "\n",
    "## What's Next?\n",
    "\n",
    "Our system barely scratches the surface, but you can continue to implement more operators, comparators, control flow, and everything else you might need for a full computer. I highly recommend consulting the references at the top of the Notebook for further reading!"
   ]
  }
 ],
 "metadata": {
  "kernelspec": {
   "display_name": "Python 3 (ipykernel)",
   "language": "python",
   "name": "python3"
  },
  "language_info": {
   "codemirror_mode": {
    "name": "ipython",
    "version": 3
   },
   "file_extension": ".py",
   "mimetype": "text/x-python",
   "name": "python",
   "nbconvert_exporter": "python",
   "pygments_lexer": "ipython3",
   "version": "3.10.0"
  }
 },
 "nbformat": 4,
 "nbformat_minor": 5
}
